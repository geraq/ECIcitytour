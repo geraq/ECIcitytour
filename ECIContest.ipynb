{
 "cells": [
  {
   "cell_type": "code",
   "execution_count": 1,
   "metadata": {
    "collapsed": true
   },
   "outputs": [],
   "source": [
    "using DataFrames"
   ]
  },
  {
   "cell_type": "code",
   "execution_count": 2,
   "metadata": {},
   "outputs": [
    {
     "name": "stderr",
     "output_type": "stream",
     "text": [
      "WARNING: Compat.UTF8String is deprecated, use String instead.\n",
      "  likely near In[2]:1\n",
      "WARNING: Compat.UTF8String is deprecated, use String instead.\n",
      "  likely near In[2]:1\n",
      "WARNING: Compat.UTF8String is deprecated, use String instead.\n",
      "  likely near In[2]:1\n",
      "WARNING: Compat.UTF8String is deprecated, use String instead.\n",
      "  likely near In[2]:1\n",
      "WARNING: Compat.UTF8String is deprecated, use String instead.\n",
      "  likely near In[2]:1\n",
      "WARNING: Compat.UTF8String is deprecated, use String instead.\n",
      "  likely near In[2]:1\n",
      "WARNING: Compat.UTF8String is deprecated, use String instead.\n",
      "  likely near In[2]:1\n",
      "WARNING: Compat.UTF8String is deprecated, use String instead.\n",
      "  likely near In[2]:1\n",
      "WARNING: Compat.UTF8String is deprecated, use String instead.\n",
      "  likely near In[2]:1\n",
      "WARNING: Compat.UTF8String is deprecated, use String instead.\n",
      "  likely near In[2]:1\n",
      "WARNING: Compat.UTF8String is deprecated, use String instead.\n",
      "  likely near In[2]:1\n",
      "WARNING: Compat.UTF8String is deprecated, use String instead.\n",
      "  likely near In[2]:1\n",
      "WARNING: Compat.UTF8String is deprecated, use String instead.\n",
      "  likely near In[2]:1\n",
      "WARNING: Compat.UTF8String is deprecated, use String instead.\n",
      "  likely near In[2]:1\n",
      "WARNING: Compat.UTF8String is deprecated, use String instead.\n",
      "  likely near In[2]:1\n",
      "WARNING: Compat.UTF8String is deprecated, use String instead.\n",
      "  likely near In[2]:1\n",
      "WARNING: Compat.UTF8String is deprecated, use String instead.\n",
      "  likely near In[2]:1\n",
      "WARNING: Compat.UTF8String is deprecated, use String instead.\n",
      "  likely near In[2]:1\n",
      "WARNING: Compat.UTF8String is deprecated, use String instead.\n",
      "  likely near In[2]:1\n",
      "WARNING: Compat.UTF8String is deprecated, use String instead.\n",
      "  likely near In[2]:1\n",
      "WARNING: Compat.UTF8String is deprecated, use String instead.\n",
      "  likely near In[2]:1\n",
      "WARNING: Compat.UTF8String is deprecated, use String instead.\n",
      "  likely near In[2]:1\n",
      "WARNING: Compat.UTF8String is deprecated, use String instead.\n",
      "  likely near In[2]:1\n",
      "in #readtable#84 at /home/geraq/.julia/v0.6/DataFrames/src/dataframe/io.jl\n",
      "WARNING: Compat.UTF8String is deprecated, use String instead.\n",
      "  likely near In[2]:1\n",
      "in #readtable#84 at /home/geraq/.julia/v0.6/DataFrames/src/dataframe/io.jl\n",
      "WARNING: Compat.UTF8String is deprecated, use String instead.\n",
      "  likely near In[2]:1\n",
      "WARNING: Compat.UTF8String is deprecated, use String instead.\n",
      "  likely near In[2]:1\n",
      "WARNING: Compat.UTF8String is deprecated, use String instead.\n",
      "  likely near In[2]:1\n",
      "WARNING: Compat.UTF8String is deprecated, use String instead.\n",
      "  likely near In[2]:1\n",
      "WARNING: Compat.UTF8String is deprecated, use String instead.\n",
      "  likely near In[2]:1\n",
      "WARNING: Compat.UTF8String is deprecated, use String instead.\n",
      "  likely near In[2]:1\n",
      "WARNING: Compat.UTF8String is deprecated, use String instead.\n",
      "  likely near In[2]:1\n",
      "in builddf at /home/geraq/.julia/v0.6/DataFrames/src/dataframe/io.jl\n"
     ]
    },
    {
     "data": {
      "text/html": [
       "<table class=\"data-frame\"><thead><tr><th></th><th>origin</th><th>agency</th><th>dest</th></tr></thead><tbody><tr><th>1</th><td>0</td><td>B</td><td>2743</td></tr><tr><th>2</th><td>2743</td><td>C</td><td>2465</td></tr><tr><th>3</th><td>2465</td><td>B</td><td>653</td></tr><tr><th>4</th><td>653</td><td>C</td><td>1463</td></tr><tr><th>5</th><td>1463</td><td>B</td><td>1228</td></tr><tr><th>6</th><td>1228</td><td>C</td><td>3662</td></tr><tr><th>7</th><td>3662</td><td>B</td><td>738</td></tr><tr><th>8</th><td>738</td><td>C</td><td>316</td></tr><tr><th>9</th><td>316</td><td>B</td><td>3680</td></tr><tr><th>10</th><td>3680</td><td>B</td><td>1349</td></tr><tr><th>11</th><td>1349</td><td>C</td><td>2728</td></tr><tr><th>12</th><td>2728</td><td>B</td><td>772</td></tr><tr><th>13</th><td>772</td><td>C</td><td>2157</td></tr><tr><th>14</th><td>2157</td><td>B</td><td>1806</td></tr><tr><th>15</th><td>1806</td><td>C</td><td>1446</td></tr><tr><th>16</th><td>1446</td><td>B</td><td>1180</td></tr><tr><th>17</th><td>1180</td><td>C</td><td>322</td></tr><tr><th>18</th><td>322</td><td>B</td><td>105</td></tr><tr><th>19</th><td>105</td><td>C</td><td>3497</td></tr><tr><th>20</th><td>3497</td><td>B</td><td>1031</td></tr><tr><th>21</th><td>1031</td><td>C</td><td>2330</td></tr><tr><th>22</th><td>2330</td><td>B</td><td>1630</td></tr><tr><th>23</th><td>1630</td><td>C</td><td>912</td></tr><tr><th>24</th><td>912</td><td>B</td><td>2552</td></tr><tr><th>25</th><td>2552</td><td>C</td><td>3071</td></tr><tr><th>26</th><td>3071</td><td>C</td><td>1294</td></tr><tr><th>27</th><td>1294</td><td>B</td><td>690</td></tr><tr><th>28</th><td>690</td><td>C</td><td>1809</td></tr><tr><th>29</th><td>1809</td><td>B</td><td>598</td></tr><tr><th>30</th><td>598</td><td>C</td><td>565</td></tr><tr><th>&vellip;</th><td>&vellip;</td><td>&vellip;</td><td>&vellip;</td></tr></tbody></table>"
      ],
      "text/plain": [
       "41011×3 DataFrames.DataFrame\n",
       "│ Row   │ origin │ agency │ dest │\n",
       "├───────┼────────┼────────┼──────┤\n",
       "│ 1     │ 0      │ \"B\"    │ 2743 │\n",
       "│ 2     │ 2743   │ \"C\"    │ 2465 │\n",
       "│ 3     │ 2465   │ \"B\"    │ 653  │\n",
       "│ 4     │ 653    │ \"C\"    │ 1463 │\n",
       "│ 5     │ 1463   │ \"B\"    │ 1228 │\n",
       "│ 6     │ 1228   │ \"C\"    │ 3662 │\n",
       "│ 7     │ 3662   │ \"B\"    │ 738  │\n",
       "│ 8     │ 738    │ \"C\"    │ 316  │\n",
       "│ 9     │ 316    │ \"B\"    │ 3680 │\n",
       "│ 10    │ 3680   │ \"B\"    │ 1349 │\n",
       "│ 11    │ 1349   │ \"C\"    │ 2728 │\n",
       "⋮\n",
       "│ 41000 │ 1380   │ \"B\"    │ 1777 │\n",
       "│ 41001 │ 1777   │ \"C\"    │ 1505 │\n",
       "│ 41002 │ 1505   │ \"B\"    │ 1506 │\n",
       "│ 41003 │ 1506   │ \"C\"    │ 1046 │\n",
       "│ 41004 │ 1046   │ \"D\"    │ 1253 │\n",
       "│ 41005 │ 1253   │ \"B\"    │ 1117 │\n",
       "│ 41006 │ 1117   │ \"C\"    │ 477  │\n",
       "│ 41007 │ 477    │ \"C\"    │ 370  │\n",
       "│ 41008 │ 370    │ \"B\"    │ 3367 │\n",
       "│ 41009 │ 3367   │ \"C\"    │ 2137 │\n",
       "│ 41010 │ 2137   │ \"B\"    │ 3024 │\n",
       "│ 41011 │ 3024   │ \"C\"    │ 0    │"
      ]
     },
     "execution_count": 2,
     "metadata": {},
     "output_type": "execute_result"
    }
   ],
   "source": [
    "cityPairs = readtable(\"sol64920.txt\", separator=',', header=false)\n",
    "cities = readtable(\"problem.csv\", separator=',', header=false)\n",
    "rename!(cities, Dict(:x1 => :city_id, :x2 => :xcoord, :x3 => :ycoord))\n",
    "#cityPairs = cityPairs[:, [:x1, :x3]]\n",
    "#rename!(cityPairs, Dict(:x1 => :origin, :x3 => :dest))\n",
    "rename!(cityPairs, Dict(:x1 => :origin, :x2 => :agency, :x3 => :dest))\n"
   ]
  },
  {
   "cell_type": "code",
   "execution_count": 3,
   "metadata": {},
   "outputs": [
    {
     "data": {
      "text/plain": [
       "getCosts (generic function with 1 method)"
      ]
     },
     "execution_count": 3,
     "metadata": {},
     "output_type": "execute_result"
    }
   ],
   "source": [
    "distToPrice(distance::Float64) = distance * 0.01\n",
    "euclideanDist(x::Vector{Float64}, y::Vector{Float64}) = sqrt(sum((x - y).^2))\n",
    "\n",
    "function getFitness(pop::Matrix{Int}, distances::Vector{Float64}, prices::Vector{Float64})::Vector{Float64}  \n",
    "  costs = getCosts(pop, distances, prices)  \n",
    "  #return 1./ (abs(vec(sum(costs, 2)) - sum(prices)) + CORRECTION)\n",
    "  #return 1./(abs(log(vec(sum(costs, 2))) - log(sum(prices))) + CORRECTION)\n",
    "  #return 1./(log(vec(sum(costs, 2))) + CORRECTION)\n",
    "  #return 1./(log(sqrt(vec(sum(costs, 2)))) + CORRECTION)\n",
    "  #fitness = sum(prices) - vec(sum(costs, 2))\n",
    "  fitness = sum(prices) - vec(sum(costs, 2))\n",
    "  fitness[fitness .< 0] = 0\n",
    "  #return fitness.^2\n",
    "  return fitness  \n",
    "end\n",
    "\n",
    "function getCosts(pop::Matrix{Int}, distances::Vector{Float64}, prices::Vector{Float64})::Matrix{Float64}\n",
    "  function fA(i::Int, trip::Int)\n",
    "    timesInARow += 1\n",
    "    if (timesInARow == 3)\n",
    "      costs[i, trip] *= 0.65\n",
    "      timesInARow = 0\n",
    "    end\n",
    "  end\n",
    "\n",
    "  function fB(i::Int, trip::Int)\n",
    "    timesInARow = 0\n",
    "    if (distances[trip] > 200)\n",
    "      costs[i, trip] *= 0.85\n",
    "    end\n",
    "  end\n",
    "\n",
    "  function fC(i::Int, trip::Int)\n",
    "    timesInARow = 0\n",
    "    if (trip > 1 && pop[i, trip - 1] == 2)\n",
    "      costs[i, trip] *= 0.80\n",
    "    end\n",
    "  end\n",
    "\n",
    "  function fD(i::Int, trip::Int)\n",
    "    timesInARow = 0\n",
    "    accDist += distances[trip]\n",
    "    nDiscounts = floor(Int, accDist / 1e4)\n",
    "    accDist -= nDiscounts * 1e4\n",
    "    costs[i, trip] -= nDiscounts * 15    \n",
    "  end\n",
    "\n",
    "  \n",
    "  (M, nCities) = size(pop)    \n",
    "  costs = repmat(prices', M, 1)  \n",
    "  funcs = [fA, fB, fC, fD]\n",
    "  timesInARow = 0\n",
    "  accDist = 0\n",
    "  for i in 1:M\n",
    "    timesInARow = 0\n",
    "    accDist = 0\n",
    "    for trip in 1:nCities\n",
    "      funcs[pop[i,trip]](i, trip)\n",
    "    end\n",
    "  end\n",
    "  \n",
    "  return costs\n",
    "end"
   ]
  },
  {
   "cell_type": "code",
   "execution_count": 4,
   "metadata": {},
   "outputs": [
    {
     "data": {
      "text/plain": [
       "41011"
      ]
     },
     "execution_count": 4,
     "metadata": {},
     "output_type": "execute_result"
    }
   ],
   "source": [
    "nCities = size(cities, 1)"
   ]
  },
  {
   "cell_type": "code",
   "execution_count": 5,
   "metadata": {},
   "outputs": [
    {
     "data": {
      "text/plain": [
       "41011-element Array{Float64,1}:\n",
       " 3.39918 \n",
       " 2.85692 \n",
       " 2.37371 \n",
       " 2.88269 \n",
       " 3.0913  \n",
       " 1.55276 \n",
       " 4.87976 \n",
       " 4.15612 \n",
       " 3.82974 \n",
       " 2.12752 \n",
       " 1.81184 \n",
       " 4.15927 \n",
       " 3.53227 \n",
       " ⋮       \n",
       " 6.80294 \n",
       " 2.89107 \n",
       " 2.76274 \n",
       " 1.77529 \n",
       " 1.97519 \n",
       " 2.86203 \n",
       " 3.08638 \n",
       " 0.469432\n",
       " 3.15829 \n",
       " 2.7216  \n",
       " 2.40174 \n",
       " 4.69473 "
      ]
     },
     "execution_count": 5,
     "metadata": {},
     "output_type": "execute_result"
    }
   ],
   "source": [
    "distances = map(1:nCities) do i\n",
    "      (originId, destId) = (cityPairs[i, :origin], cityPairs[i, :dest])      \n",
    "      originCoordsDF = cities[cities[:city_id] .== originId, [:xcoord, :ycoord]]\n",
    "      destCoordsDF = cities[cities[:city_id] .== destId, [:xcoord, :ycoord]]\n",
    "      originCoords = vec(convert(Matrix{Float64}, originCoordsDF))\n",
    "      destCoords = vec(convert(Matrix{Float64}, destCoordsDF))\n",
    "      euclideanDist(originCoords, destCoords)\n",
    "    end \n",
    "prices = map(distToPrice, distances)    "
   ]
  },
  {
   "cell_type": "code",
   "execution_count": 6,
   "metadata": {},
   "outputs": [
    {
     "data": {
      "text/plain": [
       "77543.72213697474"
      ]
     },
     "execution_count": 6,
     "metadata": {},
     "output_type": "execute_result"
    }
   ],
   "source": [
    "sum(prices)"
   ]
  },
  {
   "cell_type": "code",
   "execution_count": 123,
   "metadata": {},
   "outputs": [
    {
     "data": {
      "text/plain": [
       "15611-element Array{Int64,1}:\n",
       "    46\n",
       "   141\n",
       "   166\n",
       "   175\n",
       "   176\n",
       "   177\n",
       "   178\n",
       "   179\n",
       "   180\n",
       "   181\n",
       "   182\n",
       "   183\n",
       "   184\n",
       "     ⋮\n",
       " 40598\n",
       " 40687\n",
       " 40727\n",
       " 40805\n",
       " 40821\n",
       " 40836\n",
       " 40837\n",
       " 40838\n",
       " 40839\n",
       " 40840\n",
       " 40866\n",
       " 40879"
      ]
     },
     "execution_count": 123,
     "metadata": {},
     "output_type": "execute_result"
    }
   ],
   "source": [
    "fede = zeros(Int, 1, nCities)\n",
    "fede[distances .<= 200] = 4\n",
    "indicesB = find(distances .> 200)\n",
    "#indicesC = filter(x -> x < nCities, indicesB + 1)\n",
    "fede[indicesB] = 2\n",
    "#fede[indicesC] = 3\n",
    "for i in 1:length(fede)-1\n",
    "    if fede[i] == 2\n",
    "        fede[i+1] = 3\n",
    "    end\n",
    "end\n",
    "# find Cs and replace by As\n",
    "indices3D = find(fede[1:end-2] .== 4 .& \n",
    "    fede[2:end-1] .== 4 .& \n",
    "    fede[3:end] .== 4)\n"
   ]
  },
  {
   "cell_type": "code",
   "execution_count": 124,
   "metadata": {},
   "outputs": [
    {
     "data": {
      "text/plain": [
       "64815.30780530193"
      ]
     },
     "execution_count": 124,
     "metadata": {},
     "output_type": "execute_result"
    }
   ],
   "source": [
    "sum(getCosts(fede, distances, prices))"
   ]
  },
  {
   "cell_type": "code",
   "execution_count": null,
   "metadata": {
    "collapsed": true
   },
   "outputs": [],
   "source": [
    "indices3B = find(fede[1:end-2] .== 2 .& \n",
    "    fede[2:end-1] .== 2 .& \n",
    "    fede[3:end] .== 2)"
   ]
  },
  {
   "cell_type": "code",
   "execution_count": 8,
   "metadata": {},
   "outputs": [
    {
     "data": {
      "text/plain": [
       "1×41011 Array{Int64,2}:\n",
       " 2  3  3  3  3  3  2  3  3  3  3  2  3  …  2  3  3  3  4  2  3  3  2  3  3  2"
      ]
     },
     "execution_count": 8,
     "metadata": {},
     "output_type": "execute_result"
    }
   ],
   "source": [
    "fedeNew = copy(fede)"
   ]
  },
  {
   "cell_type": "code",
   "execution_count": 9,
   "metadata": {},
   "outputs": [],
   "source": [
    "function groupConsecutiveVals(list)\n",
    "    lists = [[list[1]]]\n",
    "    for i in list[2:end]\n",
    "        if lists[end][end] + 1 == i\n",
    "            push!(lists[end], i)\n",
    "        else\n",
    "            push!(lists, [i])\n",
    "        end\n",
    "    end\n",
    "    return lists\n",
    "end"
   ]
  },
  {
   "cell_type": "code",
   "execution_count": null,
   "metadata": {
    "collapsed": true
   },
   "outputs": [],
   "source": [
    "lists = groupConsecutiveVals(indicesD)"
   ]
  },
  {
   "cell_type": "code",
   "execution_count": 194,
   "metadata": {},
   "outputs": [
    {
     "data": {
      "text/plain": [
       "isGoodToReplace (generic function with 1 method)"
      ]
     },
     "execution_count": 194,
     "metadata": {},
     "output_type": "execute_result"
    }
   ],
   "source": [
    "function isGoodToReplace(Dgroup)\n",
    "    ddiscount = 45\n",
    "    adiscount = prices[Dgroup[3]] * 0.35\n",
    "    #println(\"$(ddiscount), $(adiscount), $(adiscount > ddiscount)\")\n",
    "    return adiscount > ddiscount\n",
    "end"
   ]
  },
  {
   "cell_type": "code",
   "execution_count": 11,
   "metadata": {},
   "outputs": [
    {
     "data": {
      "text/plain": [
       "assignA (generic function with 1 method)"
      ]
     },
     "execution_count": 11,
     "metadata": {},
     "output_type": "execute_result"
    }
   ],
   "source": [
    "function assignA(Dgroup, fede)\n",
    "    N = length(Dgroup) + 2\n",
    "    if (N == 3)\n",
    "        if isGoodToReplace(Dgroup[1]:Dgroup[1]+2)\n",
    "            fede[Dgroup[1]:Dgroup[1]+2] = 1\n",
    "        end\n",
    "    else\n",
    "        if N < 6        \n",
    "            x = Dgroup + 2\n",
    "            indMaxDist = indmax(distances[x])\n",
    "            best = x[indMaxDist]\n",
    "            if isGoodToReplace(best-2:best)\n",
    "                fede[best-2:best] = 1 \n",
    "            end\n",
    "        else N >= 6\n",
    "            if isGoodToReplace(Dgroup[1:3])\n",
    "                fede[Dgroup[1:3]] = 1\n",
    "            end\n",
    "            assignA(Dgroup[4:end], fede)        \n",
    "        end\n",
    "    end\n",
    "end"
   ]
  },
  {
   "cell_type": "code",
   "execution_count": 12,
   "metadata": {},
   "outputs": [
    {
     "data": {
      "image/png": "[encoded data removed]",
      "text/plain": [
       "PyPlot.Figure(PyObject <matplotlib.figure.Figure object at 0x7f36fbc14e90>)"
      ]
     },
     "metadata": {},
     "output_type": "display_data"
    },
    {
     "data": {
      "text/plain": [
       "Dict{Any,Any} with 6 entries:\n",
       "  \"means\"    => Any[]\n",
       "  \"whiskers\" => Any[PyObject <matplotlib.lines.Line2D object at 0x7f36fba00d10>…\n",
       "  \"fliers\"   => Any[PyObject <matplotlib.lines.Line2D object at 0x7f36fb864d90>]\n",
       "  \"boxes\"    => Any[PyObject <matplotlib.lines.Line2D object at 0x7f36fba00b10>]\n",
       "  \"caps\"     => Any[PyObject <matplotlib.lines.Line2D object at 0x7f36fba13a90>…\n",
       "  \"medians\"  => Any[PyObject <matplotlib.lines.Line2D object at 0x7f36fb864750>]"
      ]
     },
     "execution_count": 12,
     "metadata": {},
     "output_type": "execute_result"
    }
   ],
   "source": [
    "using PyPlot\n",
    "plt[:boxplot](distances)"
   ]
  },
  {
   "cell_type": "code",
   "execution_count": 13,
   "metadata": {},
   "outputs": [
    {
     "data": {
      "image/png": "[encoded data removed]",
      "text/plain": [
       "PyPlot.Figure(PyObject <matplotlib.figure.Figure object at 0x7f36fb9b7290>)"
      ]
     },
     "metadata": {},
     "output_type": "display_data"
    },
    {
     "data": {
      "text/plain": [
       "([40349.0, 527.0, 87.0, 20.0, 13.0, 7.0, 3.0, 2.0, 2.0, 1.0], [0.590339, 753.623, 1506.66, 2259.69, 3012.72, 3765.75, 4518.79, 5271.82, 6024.85, 6777.88, 7530.92], Any[PyObject <matplotlib.patches.Rectangle object at 0x7f36fb8c8910>, PyObject <matplotlib.patches.Rectangle object at 0x7f36fb8c8f90>, PyObject <matplotlib.patches.Rectangle object at 0x7f36fb8d2650>, PyObject <matplotlib.patches.Rectangle object at 0x7f36fb8d2cd0>, PyObject <matplotlib.patches.Rectangle object at 0x7f36fb7e2390>, PyObject <matplotlib.patches.Rectangle object at 0x7f36fb7e2a10>, PyObject <matplotlib.patches.Rectangle object at 0x7f36fb7e2f10>, PyObject <matplotlib.patches.Rectangle object at 0x7f36fb7ef750>, PyObject <matplotlib.patches.Rectangle object at 0x7f36fb7efdd0>, PyObject <matplotlib.patches.Rectangle object at 0x7f36fb7fc490>])"
      ]
     },
     "execution_count": 13,
     "metadata": {},
     "output_type": "execute_result"
    }
   ],
   "source": [
    "plt[:hist](distances)"
   ]
  },
  {
   "cell_type": "code",
   "execution_count": 14,
   "metadata": {},
   "outputs": [
    {
     "data": {
      "text/plain": [
       "12682"
      ]
     },
     "execution_count": 14,
     "metadata": {},
     "output_type": "execute_result"
    }
   ],
   "source": [
    "sum(distances .>= 200)"
   ]
  },
  {
   "cell_type": "code",
   "execution_count": 15,
   "metadata": {},
   "outputs": [
    {
     "data": {
      "text/plain": [
       "66.17810525942103"
      ]
     },
     "execution_count": 15,
     "metadata": {},
     "output_type": "execute_result"
    }
   ],
   "source": [
    "mean(distances) * 0.35"
   ]
  },
  {
   "cell_type": "code",
   "execution_count": 16,
   "metadata": {},
   "outputs": [
    {
     "data": {
      "text/plain": [
       "65918.72213697474"
      ]
     },
     "execution_count": 16,
     "metadata": {},
     "output_type": "execute_result"
    }
   ],
   "source": [
    "allD = ones(Int, 1, nCities) * 4\n",
    "costsD = getCosts(allD, distances, prices)\n",
    "sum(costsD)"
   ]
  },
  {
   "cell_type": "code",
   "execution_count": 17,
   "metadata": {},
   "outputs": [
    {
     "data": {
      "text/plain": [
       "68881.40388142288"
      ]
     },
     "execution_count": 17,
     "metadata": {},
     "output_type": "execute_result"
    }
   ],
   "source": [
    "sum(getCosts(fede, distances, prices))"
   ]
  },
  {
   "cell_type": "code",
   "execution_count": 195,
   "metadata": {},
   "outputs": [],
   "source": [
    "for xs in lists    \n",
    "    #println(xs)\n",
    "    assignA(xs, fedeNew)\n",
    "end"
   ]
  },
  {
   "cell_type": "code",
   "execution_count": 35,
   "metadata": {},
   "outputs": [
    {
     "data": {
      "text/plain": [
       "1×41011 Array{Int64,2}:\n",
       " 2  3  2  3  2  3  2  3  2  3  4  2  3  …  2  3  2  3  4  2  3  4  2  3  2  3"
      ]
     },
     "execution_count": 35,
     "metadata": {},
     "output_type": "execute_result"
    }
   ],
   "source": [
    "fede"
   ]
  },
  {
   "cell_type": "code",
   "execution_count": 36,
   "metadata": {},
   "outputs": [
    {
     "data": {
      "text/plain": [
       "64815.30780530193"
      ]
     },
     "execution_count": 36,
     "metadata": {},
     "output_type": "execute_result"
    }
   ],
   "source": [
    "costFede = getCosts(fede, distances, prices)\n",
    "sum(costFede)"
   ]
  },
  {
   "cell_type": "code",
   "execution_count": 41,
   "metadata": {},
   "outputs": [
    {
     "data": {
      "text/plain": [
       "64789.48389286214"
      ]
     },
     "execution_count": 41,
     "metadata": {},
     "output_type": "execute_result"
    }
   ],
   "source": [
    "sum(costFede) - 25.82391243978782"
   ]
  },
  {
   "cell_type": "code",
   "execution_count": 25,
   "metadata": {},
   "outputs": [
    {
     "data": {
      "text/plain": [
       "77543.72213697474"
      ]
     },
     "execution_count": 25,
     "metadata": {},
     "output_type": "execute_result"
    }
   ],
   "source": [
    "sum(prices)"
   ]
  },
  {
   "cell_type": "code",
   "execution_count": 26,
   "metadata": {},
   "outputs": [
    {
     "data": {
      "text/plain": [
       "1×41011 Array{Int64,2}:\n",
       " 2  3  2  3  2  3  2  3  2  2  3  2  3  …  2  3  2  3  4  2  3  3  2  3  2  3"
      ]
     },
     "execution_count": 26,
     "metadata": {},
     "output_type": "execute_result"
    }
   ],
   "source": [
    "mapping = Dict(\"A\" => 1, \"B\" => 2, \"C\" => 3, \"D\" => 4)\n",
    "originalSolution = convert(Matrix{Int}, [mapping[c] for c in cityPairs[:agency]]')"
   ]
  },
  {
   "cell_type": "code",
   "execution_count": 37,
   "metadata": {},
   "outputs": [
    {
     "data": {
      "text/plain": [
       "64920.25391243979"
      ]
     },
     "execution_count": 37,
     "metadata": {},
     "output_type": "execute_result"
    }
   ],
   "source": [
    "costsOriginal = getCosts(originalSolution, distances, prices)\n",
    "sum(costsOriginal)"
   ]
  },
  {
   "cell_type": "code",
   "execution_count": null,
   "metadata": {
    "collapsed": true
   },
   "outputs": [],
   "source": [
    "#64,894.43"
   ]
  },
  {
   "cell_type": "code",
   "execution_count": 40,
   "metadata": {},
   "outputs": [
    {
     "data": {
      "text/plain": [
       "25.82391243978782"
      ]
     },
     "execution_count": 40,
     "metadata": {},
     "output_type": "execute_result"
    }
   ],
   "source": [
    "sum(costsOriginal) - 64894.43"
   ]
  },
  {
   "cell_type": "code",
   "execution_count": 29,
   "metadata": {},
   "outputs": [
    {
     "data": {
      "text/plain": [
       "4-element Array{Tuple{Int64,Int64},1}:\n",
       " (2, 9923) \n",
       " (3, 8926) \n",
       " (4, 22144)\n",
       " (1, 18)   "
      ]
     },
     "execution_count": 29,
     "metadata": {},
     "output_type": "execute_result"
    }
   ],
   "source": [
    "counts = map(x -> (x, sum(originalSolution .== x)), unique(originalSolution))"
   ]
  },
  {
   "cell_type": "code",
   "execution_count": 30,
   "metadata": {},
   "outputs": [
    {
     "data": {
      "text/plain": [
       "3-element Array{Tuple{Int64,Int64},1}:\n",
       " (2, 6188) \n",
       " (3, 12680)\n",
       " (4, 22143)"
      ]
     },
     "execution_count": 30,
     "metadata": {},
     "output_type": "execute_result"
    }
   ],
   "source": [
    "fedecounts = map(x -> (x, sum(fede .== x)), unique(fede))"
   ]
  },
  {
   "cell_type": "code",
   "execution_count": 32,
   "metadata": {},
   "outputs": [
    {
     "data": {
      "text/plain": [
       "12680"
      ]
     },
     "execution_count": 32,
     "metadata": {},
     "output_type": "execute_result"
    }
   ],
   "source": [
    "length(indicesC)"
   ]
  },
  {
   "cell_type": "code",
   "execution_count": 33,
   "metadata": {},
   "outputs": [
    {
     "data": {
      "text/plain": [
       "3-element Array{Tuple{Int64,Int64},1}:\n",
       " (2, 6188) \n",
       " (3, 12680)\n",
       " (4, 22143)"
      ]
     },
     "execution_count": 33,
     "metadata": {},
     "output_type": "execute_result"
    }
   ],
   "source": [
    "fedeNewcounts = map(x -> (x, sum(fedeNew .== x)), unique(fedeNew))"
   ]
  },
  {
   "cell_type": "code",
   "execution_count": 58,
   "metadata": {},
   "outputs": [
    {
     "data": {
      "text/plain": [
       "41011-element Array{String,1}:\n",
       " \"B\"\n",
       " \"C\"\n",
       " \"B\"\n",
       " \"C\"\n",
       " \"B\"\n",
       " \"C\"\n",
       " \"B\"\n",
       " \"C\"\n",
       " \"B\"\n",
       " \"C\"\n",
       " \"D\"\n",
       " \"B\"\n",
       " \"C\"\n",
       " ⋮  \n",
       " \"B\"\n",
       " \"C\"\n",
       " \"B\"\n",
       " \"C\"\n",
       " \"D\"\n",
       " \"B\"\n",
       " \"C\"\n",
       " \"D\"\n",
       " \"B\"\n",
       " \"C\"\n",
       " \"B\"\n",
       " \"C\""
      ]
     },
     "execution_count": 58,
     "metadata": {},
     "output_type": "execute_result"
    }
   ],
   "source": [
    "newDF = copy(cityPairs[[:origin, :dest]])\n",
    "vals = map(i -> string(collect(\"ABCD\")[i]), fede)\n",
    "newDF[:agency] = vec(vals)\n",
    "#newDF[:, :agency]\n",
    "\n"
   ]
  },
  {
   "cell_type": "code",
   "execution_count": 61,
   "metadata": {},
   "outputs": [
    {
     "data": {
      "text/html": [
       "<table class=\"data-frame\"><thead><tr><th></th><th>origin</th><th>agency</th><th>dest</th></tr></thead><tbody><tr><th>1</th><td>0</td><td>B</td><td>2743</td></tr><tr><th>2</th><td>2743</td><td>C</td><td>2465</td></tr><tr><th>3</th><td>2465</td><td>B</td><td>653</td></tr><tr><th>4</th><td>653</td><td>C</td><td>1463</td></tr><tr><th>5</th><td>1463</td><td>B</td><td>1228</td></tr><tr><th>6</th><td>1228</td><td>C</td><td>3662</td></tr><tr><th>7</th><td>3662</td><td>B</td><td>738</td></tr><tr><th>8</th><td>738</td><td>C</td><td>316</td></tr><tr><th>9</th><td>316</td><td>B</td><td>3680</td></tr><tr><th>10</th><td>3680</td><td>C</td><td>1349</td></tr><tr><th>11</th><td>1349</td><td>D</td><td>2728</td></tr><tr><th>12</th><td>2728</td><td>B</td><td>772</td></tr><tr><th>13</th><td>772</td><td>C</td><td>2157</td></tr><tr><th>14</th><td>2157</td><td>B</td><td>1806</td></tr><tr><th>15</th><td>1806</td><td>C</td><td>1446</td></tr><tr><th>16</th><td>1446</td><td>B</td><td>1180</td></tr><tr><th>17</th><td>1180</td><td>C</td><td>322</td></tr><tr><th>18</th><td>322</td><td>B</td><td>105</td></tr><tr><th>19</th><td>105</td><td>C</td><td>3497</td></tr><tr><th>20</th><td>3497</td><td>B</td><td>1031</td></tr><tr><th>21</th><td>1031</td><td>C</td><td>2330</td></tr><tr><th>22</th><td>2330</td><td>B</td><td>1630</td></tr><tr><th>23</th><td>1630</td><td>C</td><td>912</td></tr><tr><th>24</th><td>912</td><td>B</td><td>2552</td></tr><tr><th>25</th><td>2552</td><td>C</td><td>3071</td></tr><tr><th>26</th><td>3071</td><td>D</td><td>1294</td></tr><tr><th>27</th><td>1294</td><td>B</td><td>690</td></tr><tr><th>28</th><td>690</td><td>C</td><td>1809</td></tr><tr><th>29</th><td>1809</td><td>B</td><td>598</td></tr><tr><th>30</th><td>598</td><td>C</td><td>565</td></tr><tr><th>&vellip;</th><td>&vellip;</td><td>&vellip;</td><td>&vellip;</td></tr></tbody></table>"
      ],
      "text/plain": [
       "41011×3 DataFrames.DataFrame\n",
       "│ Row   │ origin │ agency │ dest │\n",
       "├───────┼────────┼────────┼──────┤\n",
       "│ 1     │ 0      │ \"B\"    │ 2743 │\n",
       "│ 2     │ 2743   │ \"C\"    │ 2465 │\n",
       "│ 3     │ 2465   │ \"B\"    │ 653  │\n",
       "│ 4     │ 653    │ \"C\"    │ 1463 │\n",
       "│ 5     │ 1463   │ \"B\"    │ 1228 │\n",
       "│ 6     │ 1228   │ \"C\"    │ 3662 │\n",
       "│ 7     │ 3662   │ \"B\"    │ 738  │\n",
       "│ 8     │ 738    │ \"C\"    │ 316  │\n",
       "│ 9     │ 316    │ \"B\"    │ 3680 │\n",
       "│ 10    │ 3680   │ \"C\"    │ 1349 │\n",
       "│ 11    │ 1349   │ \"D\"    │ 2728 │\n",
       "⋮\n",
       "│ 41000 │ 1380   │ \"B\"    │ 1777 │\n",
       "│ 41001 │ 1777   │ \"C\"    │ 1505 │\n",
       "│ 41002 │ 1505   │ \"B\"    │ 1506 │\n",
       "│ 41003 │ 1506   │ \"C\"    │ 1046 │\n",
       "│ 41004 │ 1046   │ \"D\"    │ 1253 │\n",
       "│ 41005 │ 1253   │ \"B\"    │ 1117 │\n",
       "│ 41006 │ 1117   │ \"C\"    │ 477  │\n",
       "│ 41007 │ 477    │ \"D\"    │ 370  │\n",
       "│ 41008 │ 370    │ \"B\"    │ 3367 │\n",
       "│ 41009 │ 3367   │ \"C\"    │ 2137 │\n",
       "│ 41010 │ 2137   │ \"B\"    │ 3024 │\n",
       "│ 41011 │ 3024   │ \"C\"    │ 0    │"
      ]
     },
     "execution_count": 61,
     "metadata": {},
     "output_type": "execute_result"
    }
   ],
   "source": [
    "newDF = newDF[[:origin, :agency, :dest]]"
   ]
  },
  {
   "cell_type": "code",
   "execution_count": 62,
   "metadata": {},
   "outputs": [
    {
     "name": "stderr",
     "output_type": "stream",
     "text": [
      "WARNING: Compat.UTF8String is deprecated, use String instead.\n",
      "  likely near In[62]:1\n",
      "WARNING: Compat.UTF8String is deprecated, use String instead.\n",
      "  likely near In[62]:1\n",
      "WARNING: Compat.UTF8String is deprecated, use String instead.\n",
      "  likely near In[62]:1\n",
      "WARNING: Compat.UTF8String is deprecated, use String instead.\n",
      "  likely near In[62]:1\n",
      "WARNING: Compat.UTF8String is deprecated, use String instead.\n",
      "  likely near In[62]:1\n",
      "WARNING: Compat.UTF8String is deprecated, use String instead.\n",
      "  likely near In[62]:1\n",
      "WARNING: Compat.UTF8String is deprecated, use String instead.\n",
      "  likely near In[62]:1\n",
      "WARNING: Compat.UTF8String is deprecated, use String instead.\n",
      "  likely near In[62]:1\n",
      "WARNING: Compat.UTF8String is deprecated, use String instead.\n",
      "  likely near In[62]:1\n"
     ]
    }
   ],
   "source": [
    "writetable(\"solfede.txt\", newDF, header=false)"
   ]
  },
  {
   "cell_type": "code",
   "execution_count": 63,
   "metadata": {
    "collapsed": true
   },
   "outputs": [],
   "source": [
    "fede2 = copy(fede)\n",
    "for i in 2:length(nCities)\n",
    "    if (fede2[i] == 4) && (fede2[i-1] == 4) && prices[i] > 150\n",
    "        fede2[i-1] = 2\n",
    "        fede2[i] = 3\n",
    "    end\n",
    "end"
   ]
  },
  {
   "cell_type": "code",
   "execution_count": 65,
   "metadata": {},
   "outputs": [
    {
     "data": {
      "text/plain": [
       "64815.30780530193"
      ]
     },
     "execution_count": 65,
     "metadata": {},
     "output_type": "execute_result"
    }
   ],
   "source": [
    "sum(getCosts(fede2, distances, prices))"
   ]
  },
  {
   "cell_type": "code",
   "execution_count": 72,
   "metadata": {},
   "outputs": [
    {
     "name": "stderr",
     "output_type": "stream",
     "text": [
      "\u001b[1m\u001b[33mWARNING: \u001b[39m\u001b[22m\u001b[33mA::AbstractArray & B::AbstractArray is deprecated, use A .& B instead.\u001b[39m\n",
      "Stacktrace:\n",
      " [1] \u001b[1mdepwarn\u001b[22m\u001b[22m\u001b[1m(\u001b[22m\u001b[22m::String, ::Symbol\u001b[1m)\u001b[22m\u001b[22m at \u001b[1m./deprecated.jl:70\u001b[22m\u001b[22m\n",
      " [2] \u001b[1m&\u001b[22m\u001b[22m\u001b[1m(\u001b[22m\u001b[22m::BitArray{2}, ::BitArray{1}\u001b[1m)\u001b[22m\u001b[22m at \u001b[1m./deprecated.jl:57\u001b[22m\u001b[22m\n",
      " [3] \u001b[1minclude_string\u001b[22m\u001b[22m\u001b[1m(\u001b[22m\u001b[22m::String, ::String\u001b[1m)\u001b[22m\u001b[22m at \u001b[1m./loading.jl:515\u001b[22m\u001b[22m\n",
      " [4] \u001b[1mexecute_request\u001b[22m\u001b[22m\u001b[1m(\u001b[22m\u001b[22m::ZMQ.Socket, ::IJulia.Msg\u001b[1m)\u001b[22m\u001b[22m at \u001b[1m/home/geraq/.julia/v0.6/IJulia/src/execute_request.jl:160\u001b[22m\u001b[22m\n",
      " [5] \u001b[1meventloop\u001b[22m\u001b[22m\u001b[1m(\u001b[22m\u001b[22m::ZMQ.Socket\u001b[1m)\u001b[22m\u001b[22m at \u001b[1m/home/geraq/.julia/v0.6/IJulia/src/eventloop.jl:8\u001b[22m\u001b[22m\n",
      " [6] \u001b[1m(::IJulia.##11#14)\u001b[22m\u001b[22m\u001b[1m(\u001b[22m\u001b[22m\u001b[1m)\u001b[22m\u001b[22m at \u001b[1m./task.jl:335\u001b[22m\u001b[22m\n",
      "while loading In[72], in expression starting on line 1\n"
     ]
    },
    {
     "ename": "LoadError",
     "evalue": "\u001b[91mDimensionMismatch(\"dimensions must match\")\u001b[39m",
     "output_type": "error",
     "traceback": [
      "\u001b[91mDimensionMismatch(\"dimensions must match\")\u001b[39m",
      "",
      "Stacktrace:",
      " [1] \u001b[1mpromote_shape\u001b[22m\u001b[22m\u001b[1m(\u001b[22m\u001b[22m::Tuple{Int64,Int64}, ::Tuple{Int64}\u001b[1m)\u001b[22m\u001b[22m at \u001b[1m./indices.jl:20\u001b[22m\u001b[22m",
      " [2] \u001b[1mbroadcast\u001b[22m\u001b[22m\u001b[1m(\u001b[22m\u001b[22m::Base.#&, ::BitArray{2}, ::BitArray{1}\u001b[1m)\u001b[22m\u001b[22m at \u001b[1m./bitarray.jl:1208\u001b[22m\u001b[22m",
      " [3] \u001b[1m&\u001b[22m\u001b[22m\u001b[1m(\u001b[22m\u001b[22m::BitArray{2}, ::BitArray{1}\u001b[1m)\u001b[22m\u001b[22m at \u001b[1m./deprecated.jl:59\u001b[22m\u001b[22m"
     ]
    }
   ],
   "source": [
    "sum((fede .== 4) & (prices[vec(fede.==4)] .> 150))"
   ]
  },
  {
   "cell_type": "code",
   "execution_count": 91,
   "metadata": {},
   "outputs": [
    {
     "data": {
      "image/png": "[encoded data removed]",
      "text/plain": [
       "PyPlot.Figure(PyObject <matplotlib.figure.Figure object at 0x7f36f1387850>)"
      ]
     },
     "metadata": {},
     "output_type": "display_data"
    },
    {
     "data": {
      "text/plain": [
       "Dict{Any,Any} with 6 entries:\n",
       "  \"means\"    => Any[]\n",
       "  \"whiskers\" => Any[PyObject <matplotlib.lines.Line2D object at 0x7f36f1311250>…\n",
       "  \"fliers\"   => Any[PyObject <matplotlib.lines.Line2D object at 0x7f36f132b2d0>]\n",
       "  \"boxes\"    => Any[PyObject <matplotlib.lines.Line2D object at 0x7f36f1311050>]\n",
       "  \"caps\"     => Any[PyObject <matplotlib.lines.Line2D object at 0x7f36f1311f90>…\n",
       "  \"medians\"  => Any[PyObject <matplotlib.lines.Line2D object at 0x7f36f131ec50>]"
      ]
     },
     "execution_count": 91,
     "metadata": {},
     "output_type": "execute_result"
    }
   ],
   "source": [
    "plt[:boxplot](prices[(distances .< 200)])"
   ]
  },
  {
   "cell_type": "code",
   "execution_count": 93,
   "metadata": {},
   "outputs": [
    {
     "data": {
      "text/plain": [
       "7530.917158620189"
      ]
     },
     "execution_count": 93,
     "metadata": {},
     "output_type": "execute_result"
    }
   ],
   "source": [
    "maximum(distances)"
   ]
  },
  {
   "cell_type": "code",
   "execution_count": 95,
   "metadata": {},
   "outputs": [
    {
     "data": {
      "text/plain": [
       "65918.72213697474"
      ]
     },
     "execution_count": 95,
     "metadata": {},
     "output_type": "execute_result"
    }
   ],
   "source": [
    "sum(getCosts(allD, distances, prices))"
   ]
  },
  {
   "cell_type": "code",
   "execution_count": 100,
   "metadata": {},
   "outputs": [
    {
     "data": {
      "text/plain": [
       "64815.30780530193"
      ]
     },
     "execution_count": 100,
     "metadata": {},
     "output_type": "execute_result"
    }
   ],
   "source": [
    "sum(getCosts(fede, distances, prices))"
   ]
  },
  {
   "cell_type": "code",
   "execution_count": 99,
   "metadata": {},
   "outputs": [
    {
     "data": {
      "text/plain": [
       "1×41011 Array{Int64,2}:\n",
       " 2  3  2  3  2  3  2  3  2  3  4  2  3  …  2  3  2  3  4  2  3  4  2  3  2  3"
      ]
     },
     "execution_count": 99,
     "metadata": {},
     "output_type": "execute_result"
    }
   ],
   "source": [
    "fede"
   ]
  },
  {
   "cell_type": "code",
   "execution_count": 103,
   "metadata": {},
   "outputs": [
    {
     "data": {
      "text/plain": [
       "8581-element Array{Int64,1}:\n",
       "     1\n",
       "     3\n",
       "     5\n",
       "     7\n",
       "     9\n",
       "    12\n",
       "    14\n",
       "    16\n",
       "    18\n",
       "    20\n",
       "    22\n",
       "    24\n",
       "    27\n",
       "     ⋮\n",
       " 40985\n",
       " 40987\n",
       " 40989\n",
       " 40991\n",
       " 40993\n",
       " 40995\n",
       " 40997\n",
       " 41000\n",
       " 41002\n",
       " 41005\n",
       " 41008\n",
       " 41010"
      ]
     },
     "execution_count": 103,
     "metadata": {},
     "output_type": "execute_result"
    }
   ],
   "source": [
    "indicesBC = find((fede[1:end-1] .== 2) .& (fede[2:end] .== 3))"
   ]
  },
  {
   "cell_type": "code",
   "execution_count": 172,
   "metadata": {},
   "outputs": [],
   "source": [
    "fede2 = copy(fede)\n",
    "for i in 1:nCities-1\n",
    "    if ((fede2[i] == 2) && (fede2[i+1] == 3) && ((0.15 * prices[i]) + (0.2 * prices[i+1]) < (distances[i] + distances[i+1])*0.0015))\n",
    "        fede2[i] = 4\n",
    "        fede2[i+1] = 4\n",
    "    end\n",
    "end"
   ]
  },
  {
   "cell_type": "code",
   "execution_count": 178,
   "metadata": {},
   "outputs": [
    {
     "data": {
      "text/plain": [
       "5863.3015782604925"
      ]
     },
     "execution_count": 178,
     "metadata": {},
     "output_type": "execute_result"
    }
   ],
   "source": [
    "sum((distances[vec(fede .== 4)])) % 10000"
   ]
  },
  {
   "cell_type": "code",
   "execution_count": 173,
   "metadata": {},
   "outputs": [
    {
     "data": {
      "text/plain": [
       "64815.30780530193"
      ]
     },
     "execution_count": 173,
     "metadata": {},
     "output_type": "execute_result"
    }
   ],
   "source": [
    "sum(getCosts(fede2, distances, prices))"
   ]
  },
  {
   "cell_type": "code",
   "execution_count": 147,
   "metadata": {},
   "outputs": [
    {
     "data": {
      "text/plain": [
       "64815.30780530193"
      ]
     },
     "execution_count": 147,
     "metadata": {},
     "output_type": "execute_result"
    }
   ],
   "source": [
    "sum(getCosts(fede, distances, prices))"
   ]
  },
  {
   "cell_type": "code",
   "execution_count": 138,
   "metadata": {},
   "outputs": [
    {
     "data": {
      "image/png": "[encoded data removed]",
      "text/plain": [
       "PyPlot.Figure(PyObject <matplotlib.figure.Figure object at 0x7f36f1045ed0>)"
      ]
     },
     "metadata": {},
     "output_type": "display_data"
    },
    {
     "data": {
      "image/png": "[encoded data removed]",
      "text/plain": [
       "PyPlot.Figure(PyObject <matplotlib.figure.Figure object at 0x7f36f101be50>)"
      ]
     },
     "metadata": {},
     "output_type": "display_data"
    },
    {
     "data": {
      "text/plain": [
       "Dict{Any,Any} with 6 entries:\n",
       "  \"means\"    => Any[]\n",
       "  \"whiskers\" => Any[PyObject <matplotlib.lines.Line2D object at 0x7f36f0ea8d10>…\n",
       "  \"fliers\"   => Any[PyObject <matplotlib.lines.Line2D object at 0x7f36f0e10810>]\n",
       "  \"boxes\"    => Any[PyObject <matplotlib.lines.Line2D object at 0x7f36f0eb4b50>]\n",
       "  \"caps\"     => Any[PyObject <matplotlib.lines.Line2D object at 0x7f36f10121d0>…\n",
       "  \"medians\"  => Any[PyObject <matplotlib.lines.Line2D object at 0x7f36f0e101d0>]"
      ]
     },
     "execution_count": 138,
     "metadata": {},
     "output_type": "execute_result"
    }
   ],
   "source": [
    "plt[:boxplot](prices[vec(fede .== 2)])\n",
    "figure()\n",
    "plt[:boxplot](prices[vec(fede .== 3)])"
   ]
  },
  {
   "cell_type": "code",
   "execution_count": 159,
   "metadata": {},
   "outputs": [
    {
     "data": {
      "text/plain": [
       "2-element Array{Float64,1}:\n",
       "  0.0\n",
       " 15.0"
      ]
     },
     "execution_count": 159,
     "metadata": {},
     "output_type": "execute_result"
    }
   ],
   "source": [
    "unique((prices - vec(getCosts(fede2, distances, prices)))[vec(fede .!= fede2)])\n",
    "#getCosts(fede2, distances, prices)"
   ]
  },
  {
   "cell_type": "code",
   "execution_count": 164,
   "metadata": {},
   "outputs": [
    {
     "data": {
      "text/plain": [
       "65918.72213697474"
      ]
     },
     "execution_count": 164,
     "metadata": {},
     "output_type": "execute_result"
    }
   ],
   "source": [
    "sum(getCosts(allD, distances, prices))"
   ]
  },
  {
   "cell_type": "code",
   "execution_count": 155,
   "metadata": {},
   "outputs": [
    {
     "data": {
      "text/plain": [
       "(1, 41011)"
      ]
     },
     "execution_count": 155,
     "metadata": {},
     "output_type": "execute_result"
    }
   ],
   "source": [
    "size(fede2)"
   ]
  },
  {
   "cell_type": "code",
   "execution_count": 188,
   "metadata": {},
   "outputs": [
    {
     "data": {
      "text/plain": [
       "4372.21369747445"
      ]
     },
     "execution_count": 188,
     "metadata": {},
     "output_type": "execute_result"
    }
   ],
   "source": [
    "sum(distances) % 10000"
   ]
  },
  {
   "cell_type": "code",
   "execution_count": 170,
   "metadata": {
    "scrolled": true
   },
   "outputs": [
    {
     "data": {
      "text/plain": [
       "1×41011 Array{Int64,2}:\n",
       " 2  3  2  3  2  3  2  3  2  3  2  3  2  …  3  2  3  2  3  2  3  2  3  2  3  2"
      ]
     },
     "execution_count": 170,
     "metadata": {},
     "output_type": "execute_result"
    }
   ],
   "source": [
    "allBC = [repmat([2,3]', 1, floor(Int,nCities/2)) 2]"
   ]
  },
  {
   "cell_type": "code",
   "execution_count": 171,
   "metadata": {},
   "outputs": [
    {
     "data": {
      "text/plain": [
       "66380.53489626871"
      ]
     },
     "execution_count": 171,
     "metadata": {},
     "output_type": "execute_result"
    }
   ],
   "source": [
    "sum(getCosts(allBC, distances, prices))"
   ]
  },
  {
   "cell_type": "code",
   "execution_count": 180,
   "metadata": {},
   "outputs": [
    {
     "data": {
      "text/plain": [
       "groupEqualVals (generic function with 1 method)"
      ]
     },
     "execution_count": 180,
     "metadata": {},
     "output_type": "execute_result"
    }
   ],
   "source": [
    "function groupEqualVals(list)\n",
    "    lists = [[list[1]]]\n",
    "    for i in list[2:end]\n",
    "        if lists[end][end] == i\n",
    "            push!(lists[end], i)\n",
    "        else\n",
    "            push!(lists, [i])\n",
    "        end\n",
    "    end\n",
    "    return lists\n",
    "end"
   ]
  },
  {
   "cell_type": "code",
   "execution_count": 183,
   "metadata": {},
   "outputs": [
    {
     "data": {
      "text/plain": [
       "2"
      ]
     },
     "execution_count": 183,
     "metadata": {},
     "output_type": "execute_result"
    }
   ],
   "source": [
    "fede[1]"
   ]
  },
  {
   "cell_type": "code",
   "execution_count": 186,
   "metadata": {},
   "outputs": [
    {
     "data": {
      "text/plain": [
       "545-element Array{Array{Int64,1},1}:\n",
       " [4, 4, 4]\n",
       " [4, 4, 4]\n",
       " [4, 4, 4]\n",
       " [4, 4, 4]\n",
       " [4, 4, 4]\n",
       " [4, 4, 4]\n",
       " [4, 4, 4]\n",
       " [4, 4, 4]\n",
       " [4, 4, 4]\n",
       " [4, 4, 4]\n",
       " [4, 4, 4]\n",
       " [4, 4, 4]\n",
       " [4, 4, 4]\n",
       " ⋮        \n",
       " [4, 4, 4]\n",
       " [4, 4, 4]\n",
       " [4, 4, 4]\n",
       " [4, 4, 4]\n",
       " [4, 4, 4]\n",
       " [4, 4, 4]\n",
       " [4, 4, 4]\n",
       " [4, 4, 4]\n",
       " [4, 4, 4]\n",
       " [4, 4, 4]\n",
       " [4, 4, 4]\n",
       " [4, 4, 4]"
      ]
     },
     "execution_count": 186,
     "metadata": {},
     "output_type": "execute_result"
    }
   ],
   "source": [
    "filter(xs -> length(xs) == 3, groupEqualVals(fede))"
   ]
  },
  {
   "cell_type": "code",
   "execution_count": 189,
   "metadata": {},
   "outputs": [
    {
     "data": {
      "text/plain": [
       "68513.86838510979"
      ]
     },
     "execution_count": 189,
     "metadata": {},
     "output_type": "execute_result"
    }
   ],
   "source": [
    "allA = ones(Int, 1, nCities) * 1\n",
    "costsA = getCosts(allA, distances, prices)\n",
    "sum(costsA)"
   ]
  },
  {
   "cell_type": "code",
   "execution_count": 190,
   "metadata": {},
   "outputs": [
    {
     "data": {
      "text/plain": [
       "70704.88616980021"
      ]
     },
     "execution_count": 190,
     "metadata": {},
     "output_type": "execute_result"
    }
   ],
   "source": [
    "allB = ones(Int, 1, nCities) * 2\n",
    "costsB = getCosts(allB, distances, prices)\n",
    "sum(costsB)"
   ]
  },
  {
   "cell_type": "code",
   "execution_count": 192,
   "metadata": {},
   "outputs": [
    {
     "data": {
      "text/plain": [
       "1.8908030074120294"
      ]
     },
     "execution_count": 192,
     "metadata": {},
     "output_type": "execute_result"
    }
   ],
   "source": [
    "mean(prices)"
   ]
  }
 ],
 "metadata": {
  "kernelspec": {
   "display_name": "Julia 0.6.0",
   "language": "julia",
   "name": "julia-0.6"
  },
  "language_info": {
   "file_extension": ".jl",
   "mimetype": "application/julia",
   "name": "julia",
   "version": "0.6.0"
  }
 },
 "nbformat": 4,
 "nbformat_minor": 2
}
